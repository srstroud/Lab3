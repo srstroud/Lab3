{
 "cells": [
  {
   "cell_type": "code",
   "execution_count": 1,
   "metadata": {
    "collapsed": true
   },
   "outputs": [],
   "source": [
    "import numpy as np\n",
    "import ugradio\n",
    "import matplotlib.pyplot as plt\n",
    "#%matplotlib inline"
   ]
  },
  {
   "cell_type": "code",
   "execution_count": 2,
   "metadata": {
    "collapsed": false
   },
   "outputs": [
    {
     "name": "stdout",
     "output_type": "stream",
     "text": [
      "1552848061.477029\n"
     ]
    }
   ],
   "source": [
    "sun = np.load('Sun2019final.npz')\n",
    "t_start = sun['time'][0]\n",
    "print t_start #Unix time that observation began (seconds)"
   ]
  },
  {
   "cell_type": "markdown",
   "metadata": {},
   "source": [
    "## Plotting Raw Data"
   ]
  },
  {
   "cell_type": "code",
   "execution_count": 3,
   "metadata": {
    "collapsed": false
   },
   "outputs": [
    {
     "data": {
      "image/png": "[encoded data removed]",
      "text/plain": [
       "<Figure size 432x288 with 1 Axes>"
      ]
     },
     "metadata": {},
     "output_type": "display_data"
    }
   ],
   "source": [
    "plt.plot((sun['time']-sun['time'][0])/3600, sun['volts']*1e4, 'r')\n",
    "\n",
    "plt.title('Sun Observation')\n",
    "plt.xlabel('Time (hours)')\n",
    "plt.ylabel('Voltage (mV)')\n",
    "\n",
    "plt.rc('font', size=14)\n",
    "plt.rc('axes', titlesize=18)\n",
    "plt.rc('font',**{'family':'serif','serif':['Times']})\n",
    "plt.rc('text', usetex=True)\n",
    "\n",
    "plt.savefig('Sun.png', bbox_inches='tight')\n",
    "plt.show()"
   ]
  },
  {
   "cell_type": "markdown",
   "metadata": {},
   "source": [
    "## Plot Power Spectrum"
   ]
  },
  {
   "cell_type": "code",
   "execution_count": 4,
   "metadata": {
    "collapsed": false
   },
   "outputs": [
    {
     "name": "stderr",
     "output_type": "stream",
     "text": [
      "/home/srstroud/.local/lib/python2.7/site-packages/matplotlib/font_manager.py:1331: UserWarning: findfont: Font family [u'serif'] not found. Falling back to DejaVu Sans\n",
      "  (prop.get_family(), self.defaultFamily[fontext]))\n"
     ]
    },
    {
     "data": {
      "image/png": "[encoded data removed]",
      "text/plain": [
       "<Figure size 432x288 with 1 Axes>"
      ]
     },
     "metadata": {},
     "output_type": "display_data"
    }
   ],
   "source": [
    "Vsun = np.fft.fft(sun['volts'])\n",
    "Psun = np.abs(Vsun)**2\n",
    "Psun = np.fft.fftshift(Psun)\n",
    "Freq_Psun = np.fft.fftfreq(len(Psun), 1/6.25)\n",
    "Freq_Psun = np.fft.fftshift(Freq_Psun)\n",
    "\n",
    "plt.plot(Freq_Psun, Psun, 'r')\n",
    "#%matplotlib notebook\n",
    "\n",
    "plt.title('Sun Power Spectrum')\n",
    "plt.xlabel('Frequency (MHz)')\n",
    "plt.ylabel('Power')\n",
    "\n",
    "plt.xlim(-0.4, 0.4)\n",
    "plt.ylim(0, 1.2)\n",
    "\n",
    "plt.show()"
   ]
  },
  {
   "cell_type": "code",
   "execution_count": 5,
   "metadata": {
    "collapsed": false
   },
   "outputs": [
    {
     "data": {
      "image/png": "[encoded data removed]",
      "text/plain": [
       "<Figure size 432x288 with 1 Axes>"
      ]
     },
     "metadata": {},
     "output_type": "display_data"
    }
   ],
   "source": [
    "filt = np.where(sun['volts'] == 0)\n",
    "\n",
    "plt.plot(filt, 'r')\n",
    "\n",
    "plt.show()\n"
   ]
  },
  {
   "cell_type": "markdown",
   "metadata": {
    "collapsed": true
   },
   "source": [
    "## Hour Angle"
   ]
  },
  {
   "cell_type": "code",
   "execution_count": 16,
   "metadata": {
    "collapsed": false
   },
   "outputs": [],
   "source": [
    "time = sun['time']\n",
    "tstart = time[0]\n",
    "tend = time[-1] #equal to time[23457]\n",
    "\n",
    "def LHA(a): \n",
    "    \"\"\" Inputs a Unix time array and \n",
    "        outputs an hour angle array. \"\"\" \n",
    "    HAs = []   #hard part I\n",
    "    for i in range (0, len(a)):\n",
    "        jul = ugradio.timing.julian_date(a[i])\n",
    "        lst = ugradio.timing.lst(jul)\n",
    "        RA = ugradio.coord.sunpos(jul)[0]\n",
    "        HA = lst - RA + 360\n",
    "        HAs.append(HA) #hard part II \n",
    "    return HAs\n",
    "\n",
    "np.save('SunHA', LHA(time))"
   ]
  },
  {
   "cell_type": "code",
   "execution_count": 28,
   "metadata": {
    "collapsed": false
   },
   "outputs": [
    {
     "name": "stdout",
     "output_type": "stream",
     "text": [
      "[8.9168516  8.9169131  8.91697545 ... 4.22459701 4.2246596  4.22472172]\n"
     ]
    }
   ],
   "source": [
    "ha = np.load('SunHA.npy')\n",
    "print ha"
   ]
  },
  {
   "cell_type": "code",
   "execution_count": null,
   "metadata": {
    "collapsed": true
   },
   "outputs": [],
   "source": []
  },
  {
   "cell_type": "code",
   "execution_count": 7,
   "metadata": {
    "collapsed": false
   },
   "outputs": [],
   "source": [
    "#bess3 = np.array([3.83171, 7.01559, 10.1735])\n",
    "#bess6 = np.array([3.83171, 7.01559, 10.1735, 13.3237, 16.4706, 19.6159])\n"
   ]
  },
  {
   "cell_type": "code",
   "execution_count": null,
   "metadata": {
    "collapsed": true
   },
   "outputs": [],
   "source": []
  }
 ],
 "metadata": {
  "kernelspec": {
   "display_name": "Python 2",
   "language": "python",
   "name": "python2"
  },
  "language_info": {
   "codemirror_mode": {
    "name": "ipython",
    "version": 2
   },
   "file_extension": ".py",
   "mimetype": "text/x-python",
   "name": "python",
   "nbconvert_exporter": "python",
   "pygments_lexer": "ipython2",
   "version": "2.7.12"
  }
 },
 "nbformat": 4,
 "nbformat_minor": 1
}
