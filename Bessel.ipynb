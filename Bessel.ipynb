{
 "cells": [
  {
   "cell_type": "code",
   "execution_count": 1,
   "metadata": {
    "collapsed": true
   },
   "outputs": [],
   "source": [
    "#Importing packages\n",
    "import numpy as np\n",
    "import scipy.special as sp \n",
    "import matplotlib.pyplot as plt"
   ]
  },
  {
   "cell_type": "code",
   "execution_count": 2,
   "metadata": {
    "collapsed": false
   },
   "outputs": [
    {
     "data": {
      "text/plain": [
       "0.00017943817770157521"
      ]
     },
     "execution_count": 2,
     "metadata": {},
     "output_type": "execute_result"
    }
   ],
   "source": [
    "#Creating the Bessel function\n",
    "x = np.linspace(0,20,num=1000)\n",
    "\n",
    "def bessy(x): \n",
    "    J_1 = sp.j1(x)\n",
    "    bess = J_1/x\n",
    "    return bess\n",
    "\n",
    "bessy(3.83)"
   ]
  },
  {
   "cell_type": "code",
   "execution_count": 3,
   "metadata": {
    "collapsed": false
   },
   "outputs": [],
   "source": [
    "nulls = np.array([3.83170597, 7.01559, 10.1735, 13.3237, 16.4706, 19.6159])\n",
    "#x2 = np.linspace(-1,30)\n",
    "#xn = np.linspace(0,200, num=6)"
   ]
  },
  {
   "cell_type": "code",
   "execution_count": 29,
   "metadata": {
    "collapsed": false,
    "scrolled": true
   },
   "outputs": [
    {
     "name": "stderr",
     "output_type": "stream",
     "text": [
      "/usr/local/lib/python2.7/dist-packages/ipykernel/__main__.py:6: RuntimeWarning: invalid value encountered in divide\n"
     ]
    },
    {
     "data": {
      "image/png": "[encoded data removed]",
      "text/plain": [
       "<Figure size 432x288 with 1 Axes>"
      ]
     },
     "metadata": {},
     "output_type": "display_data"
    }
   ],
   "source": [
    "plt.plot(x, bessy(x), 'k')   #the Bessel function\n",
    "plt.plot(x, np.zeros(1000), 'k--')   #dashed x axis\n",
    "plt.plot(nulls, np.zeros(6), 'ko')   #nulls\n",
    "plt.grid(b=bool)   #gridlines\n",
    "\n",
    "plt.annotate('$n_1$', (nulls[0]+0.3,-0.0075))\n",
    "plt.annotate('$n_2$', (nulls[1]+0.3,-0.0075))\n",
    "plt.annotate('$n_3$', (nulls[2]+0.5,-0.0075))\n",
    "plt.annotate('$n_4$', (nulls[3]+0.3,-0.0075))\n",
    "plt.annotate('$n_5$', (nulls[4]+0.1,+0.004))\n",
    "plt.annotate('$n_6$', (nulls[5]-0.85,+0.004))\n",
    "\n",
    "plt.ylim(-0.07, 0.05)\n",
    "plt.xlim(0, 20)\n",
    "\n",
    "plt.title('Variant of Bessel Function of the First Kind')\n",
    "plt.xlabel('$x$', labelpad=0)\n",
    "plt.ylabel(r'$\\frac{J_{1}(x)}{x}$',  labelpad=10, rotation=0, fontsize=16)\n",
    "\n",
    "plt.rc('font', size=14)\n",
    "plt.rc('axes', titlesize=16)\n",
    "plt.rc('font',**{'family':'serif','serif':['Times']})\n",
    "plt.rc('text', usetex=True)\n",
    "\n",
    "plt.savefig('Bessel.pdf', bbox_inches='tight')\n",
    "plt.show()"
   ]
  },
  {
   "cell_type": "code",
   "execution_count": null,
   "metadata": {
    "collapsed": true
   },
   "outputs": [],
   "source": []
  },
  {
   "cell_type": "code",
   "execution_count": null,
   "metadata": {
    "collapsed": true
   },
   "outputs": [],
   "source": []
  },
  {
   "cell_type": "code",
   "execution_count": null,
   "metadata": {
    "collapsed": true
   },
   "outputs": [],
   "source": []
  }
 ],
 "metadata": {
  "kernelspec": {
   "display_name": "Python 2",
   "language": "python",
   "name": "python2"
  },
  "language_info": {
   "codemirror_mode": {
    "name": "ipython",
    "version": 2
   },
   "file_extension": ".py",
   "mimetype": "text/x-python",
   "name": "python",
   "nbconvert_exporter": "python",
   "pygments_lexer": "ipython2",
   "version": "2.7.12"
  }
 },
 "nbformat": 4,
 "nbformat_minor": 1
}
